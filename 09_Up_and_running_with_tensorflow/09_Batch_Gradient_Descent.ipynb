{
 "cells": [
  {
   "cell_type": "code",
   "execution_count": 1,
   "metadata": {},
   "outputs": [],
   "source": [
    "# 勾配降下法をtensorFlowで実践してみる\n",
    "# テキスト上は手動、自動微分での手法が載っているが、オプティマイザを使えばそのようなものは不要なためここではオプティマイザを最初から使う\n",
    "# オプティマイザは最適化手法のこと\n",
    "# 勾配降下法一つをとってもたくさんのオプティマイザが用意されているよう。　tensorflow.train.AdamOptimizer　が良さげ？\n",
    "\n",
    "# 以下お決まり設定\n",
    "# To support both python 2 and python 3\n",
    "from __future__ import division, print_function, unicode_literals\n",
    "\n",
    "# Common imports\n",
    "import numpy as np\n",
    "import os\n",
    "\n",
    "# to make this notebook's output stable across runs\n",
    "def reset_graph(seed=42):\n",
    "    tf.reset_default_graph()\n",
    "    tf.set_random_seed(seed)\n",
    "    np.random.seed(seed)\n",
    "\n",
    "# To plot pretty figures\n",
    "%matplotlib inline\n",
    "import matplotlib\n",
    "import matplotlib.pyplot as plt\n",
    "plt.rcParams['axes.labelsize'] = 14\n",
    "plt.rcParams['xtick.labelsize'] = 12\n",
    "plt.rcParams['ytick.labelsize'] = 12\n",
    "\n",
    "# Where to save the figures\n",
    "PROJECT_ROOT_DIR = \".\"\n",
    "CHAPTER_ID = \"tensorflow\"\n",
    "\n",
    "def save_fig(fig_id, tight_layout=True):\n",
    "    path = os.path.join(PROJECT_ROOT_DIR, \"images\", CHAPTER_ID, fig_id + \".png\")\n",
    "    print(\"Saving figure\", fig_id)\n",
    "    if tight_layout:\n",
    "        plt.tight_layout()\n",
    "    plt.savefig(path, format='png', dpi=300)"
   ]
  },
  {
   "cell_type": "code",
   "execution_count": 4,
   "metadata": {},
   "outputs": [],
   "source": [
    "import numpy as np\n",
    "import tensorflow as tf\n",
    "from sklearn.datasets import fetch_california_housing\n",
    "\n",
    "reset_graph()\n",
    "\n",
    "housing = fetch_california_housing()\n",
    "m, n = housing.data.shape\n",
    "# m : housing.data.shape の行が設定される　20640\n",
    "# n : housing.data.shape の列が設定される  8\n",
    "\n",
    "# housing.data : データの中身を見れる(多次元配列)\n",
    "# hoousing.data.shape : 配列の定義を見れる ここでは(20640,8) 20640インスタンス、特徴量8個"
   ]
  },
  {
   "cell_type": "code",
   "execution_count": 5,
   "metadata": {},
   "outputs": [],
   "source": [
    "# 勾配降下法はスケーリングが重要なのでまずはスケーリングを行う。手法はお任せ。ここではscikit-learnで実施する\n",
    "from sklearn.preprocessing import StandardScaler\n",
    "scaler = StandardScaler()\n",
    "scaled_housing_data = scaler.fit_transform(housing.data) # housing.data を指定してスケーリングを行う\n",
    "scaled_housing_data_plus_bias = np.c_[np.ones((m, 1)), scaled_housing_data]\n",
    "# np.ones((m, 1)) : [1.]の20640個の配列\n",
    "# np.c_ : 行列の連結\n",
    "# np.c_[np.ones((m, 1)), housing.data] : [1., housing.dataの特徴量(8個)] の20640インスタンスのnumpy配列が出来上がる\n",
    "# 先頭にバイアスとして　１　が設定されるnumpy配列ができているということ"
   ]
  },
  {
   "cell_type": "code",
   "execution_count": 6,
   "metadata": {},
   "outputs": [
    {
     "name": "stdout",
     "output_type": "stream",
     "text": [
      "[ 1.00000000e+00  6.60969987e-17  5.50808322e-18  6.60969987e-17\n",
      " -1.06030602e-16 -1.10161664e-17  3.44255201e-18 -1.07958431e-15\n",
      " -8.52651283e-15]\n",
      "[ 0.38915536  0.36424355  0.5116157  ... -0.06612179 -0.06360587\n",
      "  0.01359031]\n",
      "0.11111111111111005\n",
      "(20640, 9)\n"
     ]
    }
   ],
   "source": [
    "# axis = 0 : 列ごと\n",
    "# axis = 1 : 行ごと\n",
    "\n",
    "print(scaled_housing_data_plus_bias.mean(axis=0)) # 列ごとの平均値\n",
    "# scaled_housing_data_plus_bias : [[1.,...]] の　(20640,9) のnumpy配列\n",
    "# 列ごとの平均値は一つ目の特徴量は1固定なので1、以降の特徴量はその値による\n",
    "\n",
    "print(scaled_housing_data_plus_bias.mean(axis=1)) # 行ごとの平均値\n",
    "# こちらは行ごとの平均値であるため、インスタンスごとの平均値をもっている\n",
    "\n",
    "print(scaled_housing_data_plus_bias.mean()) # 平均値\n",
    "# インスタンスすべての平均値\n",
    "\n",
    "print(scaled_housing_data_plus_bias.shape) # numpy配列の情報"
   ]
  },
  {
   "cell_type": "code",
   "execution_count": 27,
   "metadata": {},
   "outputs": [],
   "source": [
    "reset_graph()\n",
    "\n",
    "n_epochs = 1000\n",
    "learning_rate = 0.01\n",
    "\n",
    "X = tf.constant(scaled_housing_data_plus_bias, dtype=tf.float32, name=\"X\")\n",
    "y = tf.constant(housing.target.reshape(-1, 1), dtype=tf.float32, name=\"y\")\n",
    "theta = tf.Variable(tf.random_uniform([n + 1, 1], -1.0, 1.0, seed=42), name=\"theta\")\n",
    "# random_uniform : 与えた形状と範囲に基づいてランダム値を格納するテンソルを生成する\n",
    "# tf.random_uniform([n + 1, 1]) では (9,1)のnumpy配列　ここでは操作名\"theata\" として(9,1)のnumpy配列 最小値-1,最大値1 で作成\n",
    "# theataが重みをもった特徴量ベクトルになる\n",
    "\n",
    "#y_pred = tf.matmul(X, theta, name=\"predictions\")\n",
    "# tf.matmul : 行列積  ここでは訓練データ(20640,9)と(9,1)の行列積となる python 3.5 からは以下の書き方がある\n",
    "# ここで行列積を出しているのは入力となるnumpy配列の特徴量ベクトルと重み更新のためのtheata特徴量ベクトルをかけることにより予測値を出すため\n",
    "#python3.5からの簡単な記載\n",
    "y_pred = X @ theta\n",
    "\n",
    "error = y_pred - y # 上で予測した値とラベルデータを比較して誤差をMSEに流し込む\n",
    "mse = tf.reduce_mean(tf.square(error), name=\"mse\") # 平均二乗誤差であるMSEの定義をしている"
   ]
  },
  {
   "cell_type": "code",
   "execution_count": 28,
   "metadata": {},
   "outputs": [],
   "source": [
    "# オプティマイザとして勾配降下法のオプティマイザを設定\n",
    "# 学習率をの設定をしていることに注意\n",
    "optimizer = tf.train.GradientDescentOptimizer(learning_rate=learning_rate)\n",
    "\n",
    "# 上で作成した誤差関数を訓練用に設定している\n",
    "training_op = optimizer.minimize(mse)"
   ]
  },
  {
   "cell_type": "code",
   "execution_count": 29,
   "metadata": {},
   "outputs": [
    {
     "name": "stdout",
     "output_type": "stream",
     "text": [
      "Epoch 0 MSE = 9.161543\n",
      "Epoch 100 MSE = 0.7145006\n",
      "Epoch 200 MSE = 0.566705\n",
      "Epoch 300 MSE = 0.5555719\n",
      "Epoch 400 MSE = 0.5488112\n",
      "Epoch 500 MSE = 0.5436362\n",
      "Epoch 600 MSE = 0.5396294\n",
      "Epoch 700 MSE = 0.5365092\n",
      "Epoch 800 MSE = 0.5340678\n",
      "Epoch 900 MSE = 0.5321474\n",
      "Best theta:\n",
      "[[ 2.0685525 ]\n",
      " [ 0.8874027 ]\n",
      " [ 0.14401658]\n",
      " [-0.34770882]\n",
      " [ 0.36178368]\n",
      " [ 0.00393811]\n",
      " [-0.04269556]\n",
      " [-0.6614528 ]\n",
      " [-0.6375277 ]]\n"
     ]
    }
   ],
   "source": [
    "init = tf.global_variables_initializer()\n",
    "\n",
    "with tf.Session() as sess:\n",
    "    sess.run(init)\n",
    "\n",
    "    for epoch in range(n_epochs):\n",
    "        if epoch % 100 == 0: # 100 回終わるごとにメッセージを表示しているだけ\n",
    "            print(\"Epoch\", epoch, \"MSE =\", mse.eval())\n",
    "        sess.run(training_op)\n",
    "    \n",
    "    best_theta = theta.eval() # theataは重み更新の特徴量ベクトルなのでこの値が「重み」となっている\n",
    "\n",
    "print(\"Best theta:\")\n",
    "print(best_theta)"
   ]
  },
  {
   "cell_type": "code",
   "execution_count": 25,
   "metadata": {},
   "outputs": [
    {
     "data": {
      "text/plain": [
       "<tf.Tensor 'X:0' shape=(20640, 9) dtype=float32>"
      ]
     },
     "execution_count": 25,
     "metadata": {},
     "output_type": "execute_result"
    }
   ],
   "source": []
  }
 ],
 "metadata": {
  "kernelspec": {
   "display_name": "Python 3",
   "language": "python",
   "name": "python3"
  },
  "language_info": {
   "codemirror_mode": {
    "name": "ipython",
    "version": 3
   },
   "file_extension": ".py",
   "mimetype": "text/x-python",
   "name": "python",
   "nbconvert_exporter": "python",
   "pygments_lexer": "ipython3",
   "version": "3.6.6"
  }
 },
 "nbformat": 4,
 "nbformat_minor": 2
}
