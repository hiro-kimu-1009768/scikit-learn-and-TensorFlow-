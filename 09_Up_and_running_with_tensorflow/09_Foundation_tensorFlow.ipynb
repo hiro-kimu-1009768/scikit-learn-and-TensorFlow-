{
 "cells": [
  {
   "cell_type": "code",
   "execution_count": 3,
   "metadata": {},
   "outputs": [],
   "source": [
    "# TensorFlow について基本的な考え方を学んでいく\n",
    "\n",
    "# いつもの設定\n",
    "# To support both python 2 and python 3\n",
    "from __future__ import division, print_function, unicode_literals\n",
    "\n",
    "# Common imports\n",
    "import numpy as np\n",
    "import os\n",
    "\n",
    "# to make this notebook's output stable across runs\n",
    "def reset_graph(seed=42):\n",
    "    tf.reset_default_graph()\n",
    "    tf.set_random_seed(seed)\n",
    "    np.random.seed(seed)\n",
    "\n",
    "# To plot pretty figures\n",
    "%matplotlib inline\n",
    "import matplotlib\n",
    "import matplotlib.pyplot as plt\n",
    "plt.rcParams['axes.labelsize'] = 14\n",
    "plt.rcParams['xtick.labelsize'] = 12\n",
    "plt.rcParams['ytick.labelsize'] = 12\n",
    "\n",
    "# Where to save the figures\n",
    "PROJECT_ROOT_DIR = \".\"\n",
    "CHAPTER_ID = \"tensorflow\"\n",
    "\n",
    "def save_fig(fig_id, tight_layout=True):\n",
    "    path = os.path.join(PROJECT_ROOT_DIR, \"images\", CHAPTER_ID, fig_id + \".png\")\n",
    "    print(\"Saving figure\", fig_id)\n",
    "    if tight_layout:\n",
    "        plt.tight_layout()\n",
    "    plt.savefig(path, format='png', dpi=300)"
   ]
  },
  {
   "cell_type": "code",
   "execution_count": 4,
   "metadata": {},
   "outputs": [],
   "source": [
    "# tensorFlow は計算グラフの構築フェーズとの実行フェーズに分かれている。構築フェーズをpythonで実行しても変数初期化等は一切お行われない。\n",
    "\n",
    "# 構築フェーズ：機械学習モデルを訓練するために必要な計算グラフを構築する\n",
    "# 実行フェーズ：訓練のステップを繰り返してモデルパラメータを改良するループを作成する\n",
    "\n",
    "import tensorflow as tf\n",
    "\n",
    "# 作成したノードをデフォルトグラフをリセットする。開発/検証環境のお決まりコードかな？\n",
    "reset_graph()\n",
    "# 以下を実行しても初期化さえされていない\n",
    "x = tf.Variable(3, name=\"x\")\n",
    "y = tf.Variable(4, name=\"y\")\n",
    "f = x*x*y + y + 2"
   ]
  },
  {
   "cell_type": "code",
   "execution_count": 7,
   "metadata": {},
   "outputs": [
    {
     "name": "stdout",
     "output_type": "stream",
     "text": [
      "Tensor(\"add_1:0\", shape=(), dtype=int32)\n"
     ]
    }
   ],
   "source": [
    "# ここでx,y,f を表示してみても属性が表示されるだけ\n"
   ]
  },
  {
   "cell_type": "code",
   "execution_count": 8,
   "metadata": {},
   "outputs": [
    {
     "name": "stdout",
     "output_type": "stream",
     "text": [
      "42\n"
     ]
    }
   ],
   "source": [
    "# 一番初歩的な実行フェーズの書き方\n",
    "sess = tf.Session()\n",
    "sess.run(x.initializer)\n",
    "sess.run(y.initializer)\n",
    "result = sess.run(f)\n",
    "print(result)"
   ]
  },
  {
   "cell_type": "code",
   "execution_count": 9,
   "metadata": {},
   "outputs": [],
   "source": [
    "# 実行フェーズは以下のコードでクローズする必要がある\n",
    "sess.close()"
   ]
  },
  {
   "cell_type": "code",
   "execution_count": 15,
   "metadata": {},
   "outputs": [],
   "source": [
    "# 複数の初期化子を同時に初期化するコード\n",
    "init = tf.global_variables_initializer()"
   ]
  },
  {
   "cell_type": "code",
   "execution_count": 16,
   "metadata": {},
   "outputs": [
    {
     "name": "stdout",
     "output_type": "stream",
     "text": [
      "42\n"
     ]
    },
    {
     "name": "stderr",
     "output_type": "stream",
     "text": [
      "C:\\Anaconda3\\envs\\python36\\lib\\site-packages\\tensorflow\\python\\client\\session.py:1702: UserWarning: An interactive session is already active. This can cause out-of-memory errors in some cases. You must explicitly call `InteractiveSession.close()` to release resources held by the other session(s).\n",
      "  warnings.warn('An interactive session is already active. This can '\n"
     ]
    }
   ],
   "source": [
    "# pythonシェルやjupyterでやる場合に簡単な方法⇒これで覚えていこう\n",
    "sess = tf.InteractiveSession()\n",
    "init.run()\n",
    "result = f.eval()\n",
    "print(result)"
   ]
  },
  {
   "cell_type": "code",
   "execution_count": 20,
   "metadata": {},
   "outputs": [],
   "source": [
    "# この方法の注意点は以下のように手動でセッションを閉じる必要があること\n",
    "sess.close()"
   ]
  },
  {
   "cell_type": "code",
   "execution_count": 21,
   "metadata": {},
   "outputs": [],
   "source": [
    "# 作成したノードは自動的にデフォルトノードに追加される\n",
    "# pythonシェルやjupyter上では同じコードを何度も実行するのでデフォルトコードに重複ノードが出来る。\n",
    "# 毎回以下コードを実行するのがお勧め\n",
    "tf.reset_default_graph()"
   ]
  },
  {
   "cell_type": "code",
   "execution_count": 26,
   "metadata": {},
   "outputs": [
    {
     "data": {
      "text/plain": [
       "True"
      ]
     },
     "execution_count": 26,
     "metadata": {},
     "output_type": "execute_result"
    }
   ],
   "source": [
    "# なお、グラフがあるかの判断は以下コードにて行う\n",
    "reset_graph()\n",
    "\n",
    "# tf.Variable() は変数宣言+初期化を行う　() は初期値を入れているだけ。名前を別に定義も出来たりする\n",
    "# ここらの詳細は　https://deepage.net/tensorflow/2017/06/02/tensorflow-variable.html\n",
    "x1 = tf.Variable(1)\n",
    "x1.graph is tf.get_default_graph()"
   ]
  },
  {
   "cell_type": "code",
   "execution_count": 23,
   "metadata": {},
   "outputs": [
    {
     "data": {
      "text/plain": [
       "True"
      ]
     },
     "execution_count": 23,
     "metadata": {},
     "output_type": "execute_result"
    }
   ],
   "source": [
    "# 複数の独立したグラフを管理したい場合の方法\n",
    "graph = tf.Graph() # 新しいグラフを作る\n",
    "with graph.as_default(): # with ブロックでそれを一時的なデフォルトグラフにする\n",
    "    x2 = tf.Variable(2)\n",
    "\n",
    "x2.graph is graph # ここで作られたグラフの存在確認"
   ]
  },
  {
   "cell_type": "code",
   "execution_count": 24,
   "metadata": {},
   "outputs": [
    {
     "data": {
      "text/plain": [
       "False"
      ]
     },
     "execution_count": 24,
     "metadata": {},
     "output_type": "execute_result"
    }
   ],
   "source": [
    "x2.graph is tf.get_default_graph() # 上記がデフォルトグラフに「なっていない」ことを確認"
   ]
  },
  {
   "cell_type": "code",
   "execution_count": 27,
   "metadata": {},
   "outputs": [
    {
     "name": "stdout",
     "output_type": "stream",
     "text": [
      "10\n",
      "15\n"
     ]
    }
   ],
   "source": [
    "# ノードは　tensorflowではオペレーションと呼んでいる。計算や処理を行うブロックのこと。セッション単位で管理される？\n",
    "# セッションは複数作ることが可能で、変数の値は、それぞれ別に保存される\n",
    "# ノードの値のライフサイクル\n",
    "# 下記コードは z 評価(実行時)に w と x を再度評価している。つまり y 評価時の結果を再利用していない\n",
    "# ノードの値は\n",
    "\n",
    "w = tf.constant(3) # tf.constant() は定数 # 参考は　https://deepage.net/tensorflow/2018/10/02/tensorflow-constant.html\n",
    "# 変数ではないので注意！！\n",
    "x = w + 2\n",
    "y = x + 5\n",
    "z = x * 3\n",
    "\n",
    "with tf.Session() as sess: # wtih session 内ではこれがデフォルトセッションになり、さらにclose() が要らなくなる\n",
    "    print(y.eval())  # 10 eval()はtf.get_default_session().run() と同じ。つまりセッション開始命令\n",
    "    print(z.eval())  # 15"
   ]
  }
 ],
 "metadata": {
  "kernelspec": {
   "display_name": "Python 3",
   "language": "python",
   "name": "python3"
  },
  "language_info": {
   "codemirror_mode": {
    "name": "ipython",
    "version": 3
   },
   "file_extension": ".py",
   "mimetype": "text/x-python",
   "name": "python",
   "nbconvert_exporter": "python",
   "pygments_lexer": "ipython3",
   "version": "3.6.6"
  }
 },
 "nbformat": 4,
 "nbformat_minor": 2
}
